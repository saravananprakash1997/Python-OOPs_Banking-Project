{
  "nbformat": 4,
  "nbformat_minor": 0,
  "metadata": {
    "colab": {
      "name": "Banking_Project_OOPS.ipynb",
      "provenance": [],
      "collapsed_sections": []
    },
    "kernelspec": {
      "name": "python3",
      "display_name": "Python 3"
    },
    "language_info": {
      "name": "python"
    }
  },
  "cells": [
    {
      "cell_type": "markdown",
      "source": [
        "#Banking Project on OOPS \n",
        "#Parent Class : User\n",
        "#Child Class  : Bank\n",
        "#Stores Detials about the account class\n",
        "#Stores Detils about the amount\n",
        "#Allows for deposits, withdraw, view_balance"
      ],
      "metadata": {
        "id": "tVAkIQkG0B3M"
      }
    },
    {
      "cell_type": "markdown",
      "source": [
        "Parent Class"
      ],
      "metadata": {
        "id": "YbLPn15N0Gr_"
      }
    },
    {
      "cell_type": "code",
      "source": [
        "class User:\n",
        "    def __init__(self, name, age, gender, account_type ):\n",
        "        self.name = name\n",
        "        self.age  = age\n",
        "        self.gender = gender\n",
        "        self.account_type = account_type\n",
        "    \n",
        "    def show_details(self):\n",
        "        print(\"Account Holder Details\")\n",
        "        print(\"Name :\", self.name)\n",
        "        print(\"Age :\" , self.age)\n",
        "        print(\"Gender : \", self.gender)\n",
        "        print(\"Type of Account :\", self.account_type)"
      ],
      "metadata": {
        "id": "1C-CKDOF0Ccc"
      },
      "execution_count": 3,
      "outputs": []
    },
    {
      "cell_type": "code",
      "source": [
        "account_user1 = User(\"John\", 25, \"Male\", \"Savings\")"
      ],
      "metadata": {
        "id": "4Fiu1m1S0M6V"
      },
      "execution_count": 6,
      "outputs": []
    },
    {
      "cell_type": "code",
      "source": [
        "account_user1.show_details()"
      ],
      "metadata": {
        "colab": {
          "base_uri": "https://localhost:8080/"
        },
        "id": "hf28xO130Vez",
        "outputId": "57fa33bd-7735-4ad5-c939-65b773c80f5d"
      },
      "execution_count": 7,
      "outputs": [
        {
          "output_type": "stream",
          "name": "stdout",
          "text": [
            "Account Holder Details\n",
            "Name : John\n",
            "Age : 25\n",
            "Gender :  Male\n",
            "Type of Account : Savings\n"
          ]
        }
      ]
    },
    {
      "cell_type": "code",
      "source": [
        "account_user2 = User(\"Jenny\", 25, \"Female\", \"Current\")"
      ],
      "metadata": {
        "id": "rAsCuG-C0eTb"
      },
      "execution_count": 10,
      "outputs": []
    },
    {
      "cell_type": "code",
      "source": [
        "account_user2.show_details()"
      ],
      "metadata": {
        "colab": {
          "base_uri": "https://localhost:8080/"
        },
        "id": "zIroTD6k0rht",
        "outputId": "4d531608-6a84-4659-f176-9520f169b9e8"
      },
      "execution_count": 11,
      "outputs": [
        {
          "output_type": "stream",
          "name": "stdout",
          "text": [
            "Account Holder Details\n",
            "Name : Jenny\n",
            "Age : 25\n",
            "Gender :  Female\n",
            "Type of Account : Current\n"
          ]
        }
      ]
    },
    {
      "cell_type": "markdown",
      "source": [
        "Child Class"
      ],
      "metadata": {
        "id": "tmezQjnQ02JA"
      }
    },
    {
      "cell_type": "code",
      "source": [
        "class Bank(User):\n",
        "  def __init__(self, name, age, gender, account_type):\n",
        "    super().__init__(name,age,gender, account_type)\n",
        "    self.balance = 0\n",
        "  def deposit(self, amount):\n",
        "      self.amount = amount\n",
        "      self.balance = self.balance + self.amount\n",
        "      print(\"Amount Deposited : $\",str(amount))\n",
        "      print(\"Total Balance amount : $\", str(self.balance))\n",
        "\n",
        "  def withdrawal(self, amount_to_be_withdrawn):\n",
        "      self.amount_to_be_withdrawn = amount_to_be_withdrawn\n",
        "      if (amount_to_be_withdrawn <= self.balance):\n",
        "        print(\"Here is your amount : $\"+str(amount_to_be_withdrawn))\n",
        "        self.balance = self.balance - self.amount_to_be_withdrawn\n",
        "        print(\"Available Balance in Your Account : $\"+str(self.balance))\n",
        "      else :\n",
        "        print(\"Sorry Insufficient Balance, Available Balance : $\", str(self.balance))"
      ],
      "metadata": {
        "id": "Y7cpGwvQ0v4x"
      },
      "execution_count": 30,
      "outputs": []
    },
    {
      "cell_type": "code",
      "source": [
        "account_user3 = Bank(\"Prakash\", 24, \"Male\", \"Current\")\n",
        "account_user3.deposit(100)"
      ],
      "metadata": {
        "colab": {
          "base_uri": "https://localhost:8080/"
        },
        "id": "mZsoR7vO4af3",
        "outputId": "e7cc7c43-9ec4-4b06-c5b9-31aa774c6467"
      },
      "execution_count": 31,
      "outputs": [
        {
          "output_type": "stream",
          "name": "stdout",
          "text": [
            "Amount Deposited : $ 100\n",
            "Total Balance amount : $ 100\n"
          ]
        }
      ]
    },
    {
      "cell_type": "code",
      "source": [
        "account_user3.withdrawal(25)"
      ],
      "metadata": {
        "colab": {
          "base_uri": "https://localhost:8080/"
        },
        "id": "JgPZOX174le5",
        "outputId": "ff3faa25-cd39-4663-bc58-f713f934de2a"
      },
      "execution_count": 32,
      "outputs": [
        {
          "output_type": "stream",
          "name": "stdout",
          "text": [
            "Here is your amount : $25\n",
            "Available Balance in Your Account : $75\n"
          ]
        }
      ]
    },
    {
      "cell_type": "code",
      "source": [
        "account_user3.deposit(100)"
      ],
      "metadata": {
        "colab": {
          "base_uri": "https://localhost:8080/"
        },
        "id": "rBKNUzfd6Yuh",
        "outputId": "d3e48396-a5d9-454f-9898-b7407f766436"
      },
      "execution_count": 33,
      "outputs": [
        {
          "output_type": "stream",
          "name": "stdout",
          "text": [
            "Amount Deposited : $ 100\n",
            "Total Balance amount : $ 175\n"
          ]
        }
      ]
    },
    {
      "cell_type": "code",
      "source": [
        "account_user3.withdrawal(176)"
      ],
      "metadata": {
        "colab": {
          "base_uri": "https://localhost:8080/"
        },
        "id": "juAYBjmM6mIX",
        "outputId": "9a6747eb-0670-48ec-e9ea-c1309394d5a4"
      },
      "execution_count": 34,
      "outputs": [
        {
          "output_type": "stream",
          "name": "stdout",
          "text": [
            "Sorry Insufficient Balance, Available Balance : $ 175\n"
          ]
        }
      ]
    },
    {
      "cell_type": "code",
      "source": [
        "account_user3.withdrawal(175)"
      ],
      "metadata": {
        "colab": {
          "base_uri": "https://localhost:8080/"
        },
        "id": "R_XEp3DF6qDq",
        "outputId": "78745536-cea2-4a56-d067-4f81fb856844"
      },
      "execution_count": 35,
      "outputs": [
        {
          "output_type": "stream",
          "name": "stdout",
          "text": [
            "Here is your amount : $175\n",
            "Available Balance in Your Account : $0\n"
          ]
        }
      ]
    },
    {
      "cell_type": "code",
      "source": [
        ""
      ],
      "metadata": {
        "id": "mqv1Q-dU6w4d"
      },
      "execution_count": null,
      "outputs": []
    }
  ]
}